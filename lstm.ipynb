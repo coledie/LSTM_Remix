{
 "metadata": {
  "language_info": {
   "codemirror_mode": {
    "name": "ipython",
    "version": 3
   },
   "file_extension": ".py",
   "mimetype": "text/x-python",
   "name": "python",
   "nbconvert_exporter": "python",
   "pygments_lexer": "ipython3",
   "version": "3.7.9-final"
  },
  "orig_nbformat": 2,
  "kernelspec": {
   "name": "Python 3.7.9 64-bit",
   "display_name": "Python 3.7.9 64-bit",
   "metadata": {
    "interpreter": {
     "hash": "a867e21ea51b6ff7d17b64554dd703820e9429ed5c1e01fece81ab7893e5849a"
    }
   }
  }
 },
 "nbformat": 4,
 "nbformat_minor": 2,
 "cells": [
  {
   "source": [
    "## Recurrent Neural Network with LSTM layers\n",
    "### Remixed into PyTorch from\n",
    "\n",
    "https://machinelearningmastery.com/develop-word-based-neural-language-models-python-keras/"
   ],
   "cell_type": "markdown",
   "metadata": {}
  },
  {
   "cell_type": "code",
   "execution_count": 2,
   "metadata": {},
   "outputs": [],
   "source": [
    "import numpy as np\n",
    "import torch\n",
    "from torch import nn\n",
    "import torch.nn.functional as F"
   ]
  },
  {
   "cell_type": "code",
   "execution_count": 3,
   "metadata": {},
   "outputs": [],
   "source": [
    "def onehot(values, num_classes):\n",
    "    output = torch.zeros((len(values), num_classes))\n",
    "    output[np.arange(len(values)), values] = 1.\n",
    "    return output"
   ]
  },
  {
   "cell_type": "code",
   "execution_count": 4,
   "metadata": {},
   "outputs": [],
   "source": [
    "def split_words(paragraph):\n",
    "    return paragraph.replace('\\n', ' ').lower().split()"
   ]
  },
  {
   "cell_type": "code",
   "execution_count": 5,
   "metadata": {},
   "outputs": [],
   "source": [
    "def generate_encoding(tokens):\n",
    "    counts = {}\n",
    "    for token in tokens:\n",
    "        if token not in counts:\n",
    "            counts[token] = 0\n",
    "            \n",
    "        counts[token] += 1\n",
    "    \n",
    "    sorted_tokens = sorted(counts.keys(), key=counts.get, reverse=True)\n",
    "\n",
    "    encoding = dict(zip(sorted_tokens, range(1, 1+len(sorted_tokens))))\n",
    "\n",
    "    return encoding\n",
    "\n",
    "def tokenize(tokens, encoding):\n",
    "    output = []\n",
    "    for token in tokens:\n",
    "        output.append(encoding[token])\n",
    "    return output"
   ]
  },
  {
   "cell_type": "code",
   "execution_count": 6,
   "metadata": {},
   "outputs": [],
   "source": [
    "def pre_pad(sequences, max_length, pad_value=0):\n",
    "    padded = torch.full((len(sequences), max_length), pad_value, dtype=torch.long)\n",
    "    for i, sequence in enumerate(sequences):\n",
    "        padded[i, -len(sequence):] = torch.Tensor(sequence)\n",
    "\n",
    "    return padded"
   ]
  },
  {
   "cell_type": "code",
   "execution_count": 7,
   "metadata": {},
   "outputs": [],
   "source": [
    "def train_model(model, loss, optimizer, X, y, n_epoch=500):\n",
    "    for epoch in range(n_epoch):\n",
    "\n",
    "        total_loss = 0\n",
    "        for i, inputs in enumerate(X):\n",
    "            labels = y[i]\n",
    "\n",
    "            optimizer.zero_grad()\n",
    "\n",
    "            outputs = model(inputs)\n",
    "            outputs = outputs.reshape((1, -1))\n",
    "\n",
    "            loss = criterion(outputs, labels)\n",
    "            loss.backward()\n",
    "            optimizer.step()\n",
    "\n",
    "            total_loss += loss.item()\n",
    "\n",
    "        if epoch % (n_epoch // 10) == (n_epoch // 10) - 1:\n",
    "            print(f'{epoch+1:4.0f} | loss: {total_loss / 2000:.3f}')\n",
    "            total_loss = 0.0\n",
    "        \n",
    "    return model"
   ]
  },
  {
   "source": [
    "### Model 1: One word in, one word out"
   ],
   "cell_type": "markdown",
   "metadata": {}
  },
  {
   "cell_type": "code",
   "execution_count": 8,
   "metadata": {},
   "outputs": [],
   "source": [
    "def word_by_word_seq(model, encoding, seed_text, n_words):\n",
    "    curr_text, result = seed_text, seed_text\n",
    "\n",
    "    for _ in range(n_words):\n",
    "        # Text -> Int\n",
    "        encoded = tokenize(split_words(curr_text), encoding)\n",
    "        encoded = torch.Tensor(encoded).reshape((1, -1)).to(torch.long)\n",
    "\n",
    "        # predict word\n",
    "        word_vec = model.forward(encoded).argmax()\n",
    "\n",
    "        # predicted idx -> word\n",
    "        for word, idx in encoding.items():\n",
    "            if idx == word_vec:\n",
    "                curr_text = word\n",
    "                break\n",
    "\n",
    "        #\n",
    "        result += f\" {curr_text}\"\n",
    "\n",
    "    return result"
   ]
  },
  {
   "cell_type": "code",
   "execution_count": 9,
   "metadata": {
    "tags": []
   },
   "outputs": [
    {
     "output_type": "stream",
     "name": "stdout",
     "text": [
      "Vocabulary Size: 22\nTotal Sequences: 24\n"
     ]
    }
   ],
   "source": [
    "data = \"\"\" Jack and Jill went up the hill\\n\n",
    "\t\tTo fetch a pail of water\\n\n",
    "\t\tJack fell down and broke his crown\\n\n",
    "\t\tAnd Jill came tumbling after\\n \"\"\"\n",
    "\n",
    "# Text -> Integer\n",
    "encoding = generate_encoding(split_words(data))\n",
    "encoded = tokenize(split_words(data), encoding)\n",
    "\n",
    "vocab_size = len(encoding) + 1\n",
    "print(f\"Vocabulary Size: {vocab_size}\")\n",
    "\n",
    "# Word : Word sequences\n",
    "sequences = [encoded[i-1:i+1] for i in range(1, len(encoded))]\n",
    "sequences = torch.Tensor(sequences).to(torch.long)\n",
    "print(f\"Total Sequences: {sequences.shape[0]}\")\n",
    "\n",
    "X, y = sequences[:, 0], sequences[:, 1]\n",
    "y = onehot(y, num_classes=vocab_size)"
   ]
  },
  {
   "cell_type": "code",
   "execution_count": 10,
   "metadata": {},
   "outputs": [
    {
     "output_type": "stream",
     "name": "stdout",
     "text": [
      "RNN(\n  (l1): Embedding(22, 10)\n  (l2): LSTM(10, 50)\n  (l3): Linear(in_features=50, out_features=22, bias=True)\n)\n"
     ]
    }
   ],
   "source": [
    "# Model\n",
    "class RNN(nn.Module):\n",
    "    def __init__(self):\n",
    "        super().__init__()\n",
    "\n",
    "        self.l1 = nn.Embedding(vocab_size, 10)\n",
    "        self.l2 = nn.LSTM(10, 50)\n",
    "        self.l3 = nn.Linear(50, vocab_size)\n",
    "\n",
    "    def forward(self, x):\n",
    "        x = self.l1(x)\n",
    "        x, _ = self.l2(x)\n",
    "        x = F.tanh(x)\n",
    "        x = F.sigmoid(self.l3(x))\n",
    "        return x\n",
    "\n",
    "model = RNN()\n",
    "print(repr(model))"
   ]
  },
  {
   "cell_type": "code",
   "execution_count": 11,
   "metadata": {},
   "outputs": [],
   "source": [
    "criterion = nn.CrossEntropyLoss()\n",
    "optimizer = torch.optim.Adam(model.parameters(), lr=.001)"
   ]
  },
  {
   "cell_type": "code",
   "execution_count": 12,
   "metadata": {
    "tags": []
   },
   "outputs": [
    {
     "output_type": "stream",
     "name": "stdout",
     "text": [
      "  50 | loss: 0.029\n",
      " 100 | loss: 0.027\n",
      " 150 | loss: 0.026\n",
      " 200 | loss: 0.026\n",
      " 250 | loss: 0.026\n",
      " 300 | loss: 0.026\n",
      " 350 | loss: 0.026\n",
      " 400 | loss: 0.026\n",
      " 450 | loss: 0.026\n",
      " 500 | loss: 0.026\n"
     ]
    }
   ],
   "source": [
    "# Train\n",
    "model = train_model(model, criterion, optimizer, X.reshape((-1, 1, 1)), y.argmax(1).reshape((-1, 1)).to(torch.long), n_epoch=500)"
   ]
  },
  {
   "cell_type": "code",
   "execution_count": 13,
   "metadata": {},
   "outputs": [
    {
     "output_type": "stream",
     "name": "stdout",
     "text": [
      "Jack and jill went up the hill\n"
     ]
    }
   ],
   "source": [
    "print(word_by_word_seq(model, encoding, 'Jack', 6))"
   ]
  },
  {
   "source": [
    "### Model 2: Line by line sequence"
   ],
   "cell_type": "markdown",
   "metadata": {}
  },
  {
   "cell_type": "code",
   "execution_count": 14,
   "metadata": {},
   "outputs": [],
   "source": [
    "def seq_to_word_seq(model, encoding, max_length, seed_text, n_words):\n",
    "    in_text = seed_text\n",
    "\n",
    "    for _ in range(n_words):\n",
    "        encoded = tokenize(split_words(in_text), encoding)\n",
    "        encoded = pre_pad([encoded], max_length)\n",
    "\n",
    "        yhat = model.forward(encoded)\n",
    "        print(yhat)\n",
    "        out_word = ''\n",
    "        for word, index in encoding.items():\n",
    "            if index == yhat:\n",
    "                out_word = word\n",
    "                break\n",
    "\n",
    "        in_text += f\" {out_word}\"\n",
    "\n",
    "    return in_text"
   ]
  },
  {
   "cell_type": "code",
   "execution_count": 15,
   "metadata": {},
   "outputs": [
    {
     "output_type": "stream",
     "name": "stdout",
     "text": [
      "Vocabulary Size: 22\nTotal Sequences: 21\nMax Sequence Length: 7\n"
     ]
    }
   ],
   "source": [
    "data = \"\"\" Jack and Jill went up the hill\\n\n",
    "\t\tTo fetch a pail of water\\n\n",
    "\t\tJack fell down and broke his crown\\n\n",
    "\t\tAnd Jill came tumbling after\\n \"\"\"\n",
    "\n",
    "# Text -> Integer\n",
    "encoding = generate_encoding(split_words(data))\n",
    "encoded = tokenize(split_words(data), encoding)\n",
    "\n",
    "vocab_size = len(encoding) + 1\n",
    "print(f\"Vocabulary Size: {vocab_size}\")\n",
    "\n",
    "# Line based sequences\n",
    "sequences = list()\n",
    "for line in data.split('\\n'):\n",
    "    encoded = tokenize(split_words(line), encoding)\n",
    "    for i in range(1, len(encoded)):\n",
    "        sequence = encoded[:i+1]\n",
    "        sequences.append(sequence)\n",
    "print('Total Sequences: %d' % len(sequences))\n",
    "\n",
    "# Pad\n",
    "max_length = max([len(seq) for seq in sequences])\n",
    "sequences = pre_pad(sequences, max_length)\n",
    "print('Max Sequence Length: %d' % max_length)\n",
    "\n",
    "X, y = sequences[:,:-1], sequences[:,-1]\n",
    "y = onehot(y, num_classes=vocab_size)"
   ]
  },
  {
   "cell_type": "code",
   "execution_count": 16,
   "metadata": {},
   "outputs": [
    {
     "output_type": "stream",
     "name": "stdout",
     "text": [
      "RNN(\n  (l1): Embedding(22, 10)\n  (l2): LSTM(10, 50)\n  (l3): Linear(in_features=50, out_features=22, bias=True)\n)\n"
     ]
    }
   ],
   "source": [
    "# Model\n",
    "class RNN(nn.Module):\n",
    "    def __init__(self):\n",
    "        super().__init__()\n",
    "\n",
    "        self.l1 = nn.Embedding(vocab_size, 10)\n",
    "        self.l2 = nn.LSTM(10, 50)\n",
    "        self.l3 = nn.Linear(50, vocab_size)\n",
    "\n",
    "    def forward(self, x):\n",
    "        x = self.l1(x)\n",
    "        x, _ = self.l2(x)\n",
    "        x = F.tanh(x)\n",
    "        x = F.sigmoid(self.l3(x))\n",
    "        return x\n",
    "\n",
    "model = RNN()\n",
    "print(repr(model))"
   ]
  },
  {
   "cell_type": "code",
   "execution_count": 17,
   "metadata": {},
   "outputs": [],
   "source": [
    "criterion = nn.CrossEntropyLoss()\n",
    "optimizer = torch.optim.Adam(model.parameters(), lr=.001)"
   ]
  },
  {
   "cell_type": "code",
   "execution_count": 18,
   "metadata": {},
   "outputs": [
    {
     "output_type": "stream",
     "name": "stdout",
     "text": [
      "  50 | loss: 0.040\n",
      " 100 | loss: 0.039\n",
      " 150 | loss: 0.039\n",
      " 200 | loss: 0.039\n",
      " 250 | loss: 0.039\n",
      " 300 | loss: 0.039\n",
      " 350 | loss: 0.039\n",
      " 400 | loss: 0.039\n",
      " 450 | loss: 0.039\n",
      " 500 | loss: 0.039\n"
     ]
    }
   ],
   "source": [
    "# Train\n",
    "model = train_model(model, criterion, optimizer, X.reshape((-1, 1, max_length)), y.argmax(1).reshape((-1, 1)).to(torch.long), n_epoch=500)"
   ]
  },
  {
   "cell_type": "code",
   "execution_count": 19,
   "metadata": {},
   "outputs": [
    {
     "output_type": "stream",
     "name": "stdout",
     "text": [
      "tensor([[[1.7461e-05, 9.9994e-01, 1.7323e-05, 1.0000e+00, 9.9961e-01,\n          1.5241e-06, 1.4573e-04, 1.5090e-04, 1.7473e-05, 9.9959e-01,\n          9.9951e-01, 1.5208e-04, 1.0835e-04, 9.9952e-01, 1.5560e-04,\n          9.9962e-01, 1.3832e-04, 9.9957e-01, 1.4960e-06, 1.8293e-05,\n          1.7916e-05, 1.7286e-05],\n         [1.7461e-05, 9.9994e-01, 1.7323e-05, 1.0000e+00, 9.9961e-01,\n          1.5241e-06, 1.4573e-04, 1.5090e-04, 1.7473e-05, 9.9959e-01,\n          9.9951e-01, 1.5208e-04, 1.0835e-04, 9.9952e-01, 1.5560e-04,\n          9.9962e-01, 1.3832e-04, 9.9957e-01, 1.4960e-06, 1.8293e-05,\n          1.7916e-05, 1.7286e-05],\n         [1.7461e-05, 9.9994e-01, 1.7323e-05, 1.0000e+00, 9.9961e-01,\n          1.5241e-06, 1.4573e-04, 1.5090e-04, 1.7473e-05, 9.9959e-01,\n          9.9951e-01, 1.5208e-04, 1.0835e-04, 9.9952e-01, 1.5560e-04,\n          9.9962e-01, 1.3832e-04, 9.9957e-01, 1.4960e-06, 1.8293e-05,\n          1.7916e-05, 1.7286e-05],\n         [1.7461e-05, 9.9994e-01, 1.7323e-05, 1.0000e+00, 9.9961e-01,\n          1.5241e-06, 1.4573e-04, 1.5090e-04, 1.7473e-05, 9.9959e-01,\n          9.9951e-01, 1.5208e-04, 1.0835e-04, 9.9952e-01, 1.5560e-04,\n          9.9962e-01, 1.3832e-04, 9.9957e-01, 1.4960e-06, 1.8293e-05,\n          1.7916e-05, 1.7286e-05],\n         [1.7461e-05, 9.9994e-01, 1.7323e-05, 1.0000e+00, 9.9961e-01,\n          1.5241e-06, 1.4573e-04, 1.5090e-04, 1.7473e-05, 9.9959e-01,\n          9.9951e-01, 1.5208e-04, 1.0835e-04, 9.9952e-01, 1.5560e-04,\n          9.9962e-01, 1.3832e-04, 9.9957e-01, 1.4960e-06, 1.8293e-05,\n          1.7916e-05, 1.7286e-05],\n         [1.0730e-07, 9.9961e-01, 8.8525e-08, 8.7405e-04, 1.2793e-03,\n          6.8214e-05, 3.2023e-06, 4.9044e-04, 1.0639e-07, 1.3182e-03,\n          1.5337e-03, 1.6796e-03, 8.7541e-06, 1.4662e-03, 1.0246e-07,\n          1.1801e-03, 1.1357e-05, 1.3590e-03, 4.3837e-05, 9.4535e-08,\n          8.2842e-08, 1.0158e-07]]], grad_fn=<SigmoidBackward>)\n"
     ]
    },
    {
     "output_type": "error",
     "ename": "RuntimeError",
     "evalue": "Boolean value of Tensor with more than one value is ambiguous",
     "traceback": [
      "\u001b[1;31m---------------------------------------------------------------------------\u001b[0m",
      "\u001b[1;31mRuntimeError\u001b[0m                              Traceback (most recent call last)",
      "\u001b[1;32m<ipython-input-19-b20a90ce3850>\u001b[0m in \u001b[0;36m<module>\u001b[1;34m\u001b[0m\n\u001b[1;32m----> 1\u001b[1;33m \u001b[0mprint\u001b[0m\u001b[1;33m(\u001b[0m\u001b[0mseq_to_word_seq\u001b[0m\u001b[1;33m(\u001b[0m\u001b[0mmodel\u001b[0m\u001b[1;33m,\u001b[0m \u001b[0mencoding\u001b[0m\u001b[1;33m,\u001b[0m \u001b[0mmax_length\u001b[0m\u001b[1;33m-\u001b[0m\u001b[1;36m1\u001b[0m\u001b[1;33m,\u001b[0m \u001b[1;34m'Jack'\u001b[0m\u001b[1;33m,\u001b[0m \u001b[1;36m4\u001b[0m\u001b[1;33m)\u001b[0m\u001b[1;33m)\u001b[0m\u001b[1;33m\u001b[0m\u001b[1;33m\u001b[0m\u001b[0m\n\u001b[0m\u001b[0;32m      2\u001b[0m \u001b[0mprint\u001b[0m\u001b[1;33m(\u001b[0m\u001b[0mseq_to_word_seq\u001b[0m\u001b[1;33m(\u001b[0m\u001b[0mmodel\u001b[0m\u001b[1;33m,\u001b[0m \u001b[0mencoding\u001b[0m\u001b[1;33m,\u001b[0m \u001b[0mmax_length\u001b[0m\u001b[1;33m-\u001b[0m\u001b[1;36m1\u001b[0m\u001b[1;33m,\u001b[0m \u001b[1;34m'Jill'\u001b[0m\u001b[1;33m,\u001b[0m \u001b[1;36m4\u001b[0m\u001b[1;33m)\u001b[0m\u001b[1;33m)\u001b[0m\u001b[1;33m\u001b[0m\u001b[1;33m\u001b[0m\u001b[0m\n",
      "\u001b[1;32m<ipython-input-14-bc3d39837a64>\u001b[0m in \u001b[0;36mseq_to_word_seq\u001b[1;34m(model, encoding, max_length, seed_text, n_words)\u001b[0m\n\u001b[0;32m     10\u001b[0m         \u001b[0mout_word\u001b[0m \u001b[1;33m=\u001b[0m \u001b[1;34m''\u001b[0m\u001b[1;33m\u001b[0m\u001b[1;33m\u001b[0m\u001b[0m\n\u001b[0;32m     11\u001b[0m         \u001b[1;32mfor\u001b[0m \u001b[0mword\u001b[0m\u001b[1;33m,\u001b[0m \u001b[0mindex\u001b[0m \u001b[1;32min\u001b[0m \u001b[0mencoding\u001b[0m\u001b[1;33m.\u001b[0m\u001b[0mitems\u001b[0m\u001b[1;33m(\u001b[0m\u001b[1;33m)\u001b[0m\u001b[1;33m:\u001b[0m\u001b[1;33m\u001b[0m\u001b[1;33m\u001b[0m\u001b[0m\n\u001b[1;32m---> 12\u001b[1;33m             \u001b[1;32mif\u001b[0m \u001b[0mindex\u001b[0m \u001b[1;33m==\u001b[0m \u001b[0myhat\u001b[0m\u001b[1;33m:\u001b[0m\u001b[1;33m\u001b[0m\u001b[1;33m\u001b[0m\u001b[0m\n\u001b[0m\u001b[0;32m     13\u001b[0m                 \u001b[0mout_word\u001b[0m \u001b[1;33m=\u001b[0m \u001b[0mword\u001b[0m\u001b[1;33m\u001b[0m\u001b[1;33m\u001b[0m\u001b[0m\n\u001b[0;32m     14\u001b[0m                 \u001b[1;32mbreak\u001b[0m\u001b[1;33m\u001b[0m\u001b[1;33m\u001b[0m\u001b[0m\n",
      "\u001b[1;31mRuntimeError\u001b[0m: Boolean value of Tensor with more than one value is ambiguous"
     ]
    }
   ],
   "source": [
    "print(seq_to_word_seq(model, encoding, max_length-1, 'Jack', 4))\n",
    "print(seq_to_word_seq(model, encoding, max_length-1, 'Jill', 4))"
   ]
  },
  {
   "cell_type": "code",
   "execution_count": null,
   "metadata": {},
   "outputs": [],
   "source": []
  }
 ]
}