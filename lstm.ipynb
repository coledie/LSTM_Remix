{
 "metadata": {
  "language_info": {
   "codemirror_mode": {
    "name": "ipython",
    "version": 3
   },
   "file_extension": ".py",
   "mimetype": "text/x-python",
   "name": "python",
   "nbconvert_exporter": "python",
   "pygments_lexer": "ipython3",
   "version": "3.7.9-final"
  },
  "orig_nbformat": 2,
  "kernelspec": {
   "name": "Python 3.7.9 64-bit",
   "display_name": "Python 3.7.9 64-bit",
   "metadata": {
    "interpreter": {
     "hash": "a867e21ea51b6ff7d17b64554dd703820e9429ed5c1e01fece81ab7893e5849a"
    }
   }
  }
 },
 "nbformat": 4,
 "nbformat_minor": 2,
 "cells": [
  {
   "source": [
    "## Recurrent Neural Network with LSTM layers\n",
    "### Remixed into PyTorch from\n",
    "\n",
    "https://machinelearningmastery.com/develop-word-based-neural-language-models-python-keras/"
   ],
   "cell_type": "markdown",
   "metadata": {}
  },
  {
   "cell_type": "code",
   "execution_count": null,
   "metadata": {},
   "outputs": [],
   "source": [
    "import numpy as np\n",
    "import torch\n",
    "from torch import nn\n",
    "import torch.nn.functional as F"
   ]
  },
  {
   "cell_type": "code",
   "execution_count": null,
   "metadata": {},
   "outputs": [],
   "source": [
    "def onehot(values, num_classes):\n",
    "    output = torch.zeros((len(values), num_classes))\n",
    "    output[np.arange(len(values)), values] = 1.\n",
    "    return output"
   ]
  },
  {
   "cell_type": "code",
   "execution_count": null,
   "metadata": {},
   "outputs": [],
   "source": [
    "def split_words(paragraph):\n",
    "    return paragraph.replace('\\n', ' ').lower().split()"
   ]
  },
  {
   "cell_type": "code",
   "execution_count": null,
   "metadata": {},
   "outputs": [],
   "source": [
    "def generate_encoding(tokens):\n",
    "    counts = {}\n",
    "    for token in tokens:\n",
    "        if token not in counts:\n",
    "            counts[token] = 0\n",
    "            \n",
    "        counts[token] += 1\n",
    "    \n",
    "    sorted_tokens = sorted(counts.keys(), key=counts.get, reverse=True)\n",
    "\n",
    "    encoding = dict(zip(sorted_tokens, range(1, 1+len(sorted_tokens))))\n",
    "\n",
    "    return encoding\n",
    "\n",
    "def tokenize(tokens, encoding):\n",
    "    output = []\n",
    "    for token in tokens:\n",
    "        output.append(encoding[token])\n",
    "    return output"
   ]
  },
  {
   "cell_type": "code",
   "execution_count": null,
   "metadata": {},
   "outputs": [],
   "source": [
    "def pre_pad(sequences, max_length, pad_value=0):\n",
    "    padded = torch.full((len(sequences), max_length), pad_value, dtype=torch.long)\n",
    "    for i, sequence in enumerate(sequences):\n",
    "        padded[i, -len(sequence):] = torch.Tensor(sequence)\n",
    "\n",
    "    return padded"
   ]
  },
  {
   "source": [
    "### Model 1: One word in, one word out"
   ],
   "cell_type": "markdown",
   "metadata": {}
  },
  {
   "cell_type": "code",
   "execution_count": null,
   "metadata": {},
   "outputs": [],
   "source": [
    "def word_by_word_seq(model, encoding, seed_text, n_words):\n",
    "    curr_text, result = seed_text, seed_text\n",
    "\n",
    "    for _ in range(n_words):\n",
    "        # Text -> Int\n",
    "        encoded = tokenize(split_words(curr_text), encoding)\n",
    "        encoded = torch.Tensor(encoded).reshape((1, -1)).to(torch.long)\n",
    "\n",
    "        # predict word\n",
    "        word_vec = model.forward(encoded).argmax()\n",
    "\n",
    "        # predicted idx -> word\n",
    "        for word, idx in encoding.items():\n",
    "            if idx == word_vec:\n",
    "                curr_text = word\n",
    "                break\n",
    "\n",
    "        #\n",
    "        result += f\" {curr_text}\"\n",
    "\n",
    "    return result"
   ]
  },
  {
   "cell_type": "code",
   "execution_count": null,
   "metadata": {
    "tags": []
   },
   "outputs": [],
   "source": [
    "data = \"\"\" Jack and Jill went up the hill\\n\n",
    "\t\tTo fetch a pail of water\\n\n",
    "\t\tJack fell down and broke his crown\\n\n",
    "\t\tAnd Jill came tumbling after\\n \"\"\"\n",
    "\n",
    "# Text -> Integer\n",
    "encoding = generate_encoding(split_words(data))\n",
    "encoded = tokenize(split_words(data), encoding)\n",
    "\n",
    "vocab_size = len(encoding) + 1\n",
    "print(f\"Vocabulary Size: {vocab_size}\")\n",
    "\n",
    "# Word : Word sequences\n",
    "sequences = [encoded[i-1:i+1] for i in range(1, len(encoded))]\n",
    "sequences = torch.Tensor(sequences).to(torch.long)\n",
    "print(f\"Total Sequences: {sequences.shape[0]}\")\n",
    "\n",
    "X, y = sequences[:, 0], sequences[:, 1]\n",
    "y = onehot(y, num_classes=vocab_size)"
   ]
  },
  {
   "cell_type": "code",
   "execution_count": null,
   "metadata": {},
   "outputs": [],
   "source": [
    "# Model\n",
    "class RNN(nn.Module):\n",
    "    def __init__(self):\n",
    "        super().__init__()\n",
    "\n",
    "        self.l1 = nn.Embedding(vocab_size, 10)\n",
    "        self.l2 = nn.LSTM(10, 50)\n",
    "        self.l3 = nn.Linear(50, vocab_size)\n",
    "\n",
    "    def forward(self, x):\n",
    "        x = self.l1(x)\n",
    "        x, _ = self.l2(x)\n",
    "        x = F.tanh(x)\n",
    "        x = F.sigmoid(self.l3(x))\n",
    "        return x\n",
    "\n",
    "model = RNN()\n",
    "print(repr(model))"
   ]
  },
  {
   "cell_type": "code",
   "execution_count": null,
   "metadata": {},
   "outputs": [],
   "source": [
    "criterion = nn.CrossEntropyLoss()\n",
    "optimizer = torch.optim.Adam(model.parameters(), lr=.001)"
   ]
  },
  {
   "cell_type": "code",
   "execution_count": null,
   "metadata": {
    "tags": []
   },
   "outputs": [],
   "source": [
    "# Train\n",
    "for epoch in range(500):\n",
    "\n",
    "    total_loss = 0\n",
    "    for i, inputs in enumerate(X.reshape((-1, 1, 1))):\n",
    "        labels = y[i].reshape((-1)).argmax().reshape(1)\n",
    "\n",
    "        optimizer.zero_grad()\n",
    "\n",
    "        outputs = model(inputs)\n",
    "        outputs = outputs.reshape((1, -1))\n",
    "\n",
    "        loss = criterion(outputs, labels.to(torch.long))\n",
    "        loss.backward()\n",
    "        optimizer.step()\n",
    "\n",
    "        total_loss += loss.item()\n",
    "    if epoch % 25 == 24:\n",
    "        print(f'{epoch+1:4.0f} | loss: {total_loss / 2000:.3f}')\n",
    "        total_loss = 0.0"
   ]
  },
  {
   "cell_type": "code",
   "execution_count": null,
   "metadata": {},
   "outputs": [],
   "source": [
    "#\n",
    "print(word_by_word_seq(model, encoding, 'Jack', 6))"
   ]
  },
  {
   "source": [
    "### Model 2: Line by line sequence"
   ],
   "cell_type": "markdown",
   "metadata": {}
  },
  {
   "cell_type": "code",
   "execution_count": null,
   "metadata": {},
   "outputs": [],
   "source": [
    "def seq_to_word_seq(model, encoding, max_length, seed_text, n_words):\n",
    "    in_text = seed_text\n",
    "\n",
    "    for _ in range(n_words):\n",
    "        encoded = tokenize(split_words(in_text), encoding)\n",
    "        encoded = pre_pad([encoded], max_length)\n",
    "\n",
    "        yhat = model.forward(encoded)\n",
    "        print(yhat)\n",
    "        out_word = ''\n",
    "        for word, index in encoding.items():\n",
    "            if index == yhat:\n",
    "                out_word = word\n",
    "                break\n",
    "\n",
    "        in_text += f\" {out_word}\"\n",
    "\n",
    "    return in_text"
   ]
  },
  {
   "cell_type": "code",
   "execution_count": null,
   "metadata": {},
   "outputs": [],
   "source": [
    "print(seq_to_word_seq(model, encoding, max_length-1, 'Jack', 4))\n",
    "print(seq_to_word_seq(model, encoding, max_length-1, 'Jill', 4))"
   ]
  },
  {
   "cell_type": "code",
   "execution_count": null,
   "metadata": {},
   "outputs": [],
   "source": [
    "data = \"\"\" Jack and Jill went up the hill\\n\n",
    "\t\tTo fetch a pail of water\\n\n",
    "\t\tJack fell down and broke his crown\\n\n",
    "\t\tAnd Jill came tumbling after\\n \"\"\"\n",
    "\n",
    "# Text -> Integer\n",
    "encoding = generate_encoding(split_words(data))\n",
    "encoded = tokenize(split_words(data), encoding)\n",
    "\n",
    "vocab_size = len(encoding) + 1\n",
    "print(f\"Vocabulary Size: {vocab_size}\")\n",
    "\n",
    "# Line based sequences\n",
    "sequences = list()\n",
    "for line in data.split('\\n'):\n",
    "    encoded = tokenize(split_words(line), encoding)\n",
    "    for i in range(1, len(encoded)):\n",
    "        sequence = encoded[:i+1]\n",
    "        sequences.append(sequence)\n",
    "print('Total Sequences: %d' % len(sequences))\n",
    "\n",
    "# Pad\n",
    "max_length = max([len(seq) for seq in sequences])\n",
    "sequences = pre_pad(sequences, max_length)\n",
    "print('Max Sequence Length: %d' % max_length)\n",
    "\n",
    "X, y = sequences[:,:-1], sequences[:,-1]\n",
    "y = onehot(y, num_classes=vocab_size)"
   ]
  },
  {
   "cell_type": "code",
   "execution_count": null,
   "metadata": {},
   "outputs": [],
   "source": [
    "# Model\n",
    "class RNN(nn.Module):\n",
    "    def __init__(self):\n",
    "        super().__init__()\n",
    "\n",
    "        self.l1 = nn.Embedding(vocab_size, 10)\n",
    "        self.l2 = nn.LSTM(10, 50)\n",
    "        self.l3 = nn.Linear(50, vocab_size)\n",
    "\n",
    "    def forward(self, x):\n",
    "        x = self.l1(x)\n",
    "        x, _ = self.l2(x)\n",
    "        x = F.tanh(x)\n",
    "        x = F.sigmoid(self.l3(x))\n",
    "        return x\n",
    "\n",
    "model = RNN()\n",
    "print(repr(model))"
   ]
  },
  {
   "cell_type": "code",
   "execution_count": null,
   "metadata": {},
   "outputs": [],
   "source": [
    "criterion = nn.CrossEntropyLoss()\n",
    "optimizer = torch.optim.Adam(model.parameters(), lr=.001)"
   ]
  },
  {
   "cell_type": "code",
   "execution_count": null,
   "metadata": {},
   "outputs": [],
   "source": [
    "# Train\n",
    "for epoch in range(500):\n",
    "\n",
    "    total_loss = 0\n",
    "    for i, inputs in enumerate(X.reshape((-1, 1, max_length))):\n",
    "        labels = y[i].reshape((-1)).argmax().reshape(1)\n",
    "\n",
    "        optimizer.zero_grad()\n",
    "\n",
    "        outputs = model(inputs)\n",
    "        outputs = outputs.reshape((1, -1))\n",
    "\n",
    "        loss = criterion(outputs, labels.to(torch.long))\n",
    "        loss.backward()\n",
    "        optimizer.step()\n",
    "\n",
    "        total_loss += loss.item()\n",
    "\n",
    "    if epoch % 25 == 24:\n",
    "        print(f'{epoch+1:4.0f} | loss: {total_loss / 2000:.3f}')\n",
    "        total_loss = 0.0"
   ]
  },
  {
   "cell_type": "code",
   "execution_count": null,
   "metadata": {},
   "outputs": [],
   "source": [
    "print(seq_to_word_seq(model, encoding, max_length-1, 'Jack', 4))\n",
    "print(seq_to_word_seq(model, encoding, max_length-1, 'Jill', 4))"
   ]
  },
  {
   "cell_type": "code",
   "execution_count": null,
   "metadata": {},
   "outputs": [],
   "source": []
  }
 ]
}